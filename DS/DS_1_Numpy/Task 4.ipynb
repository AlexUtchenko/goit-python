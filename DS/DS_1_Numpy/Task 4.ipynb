{
 "cells": [
  {
   "cell_type": "markdown",
   "id": "f616fa34",
   "metadata": {},
   "source": [
    "a + b + c = 12\n",
    "\n",
    "9*a + 3*b + c = 54\n",
    "\n",
    "a - b + c = 2"
   ]
  },
  {
   "cell_type": "code",
   "execution_count": 1,
   "id": "8151361b",
   "metadata": {},
   "outputs": [],
   "source": [
    "import numpy as np"
   ]
  },
  {
   "cell_type": "code",
   "execution_count": 2,
   "id": "0b5f8b95",
   "metadata": {},
   "outputs": [],
   "source": [
    "A = np.array([[1,1,1],[9,3,1],[1,-1,1]])"
   ]
  },
  {
   "cell_type": "code",
   "execution_count": 3,
   "id": "98a01180",
   "metadata": {},
   "outputs": [
    {
     "data": {
      "text/plain": [
       "array([[ 1,  1,  1],\n",
       "       [ 9,  3,  1],\n",
       "       [ 1, -1,  1]])"
      ]
     },
     "execution_count": 3,
     "metadata": {},
     "output_type": "execute_result"
    }
   ],
   "source": [
    "A"
   ]
  },
  {
   "cell_type": "code",
   "execution_count": 4,
   "id": "dd4934ec",
   "metadata": {},
   "outputs": [],
   "source": [
    "b = np.array([12,54,2])"
   ]
  },
  {
   "cell_type": "code",
   "execution_count": 5,
   "id": "d6720885",
   "metadata": {},
   "outputs": [
    {
     "data": {
      "text/plain": [
       "array([12, 54,  2])"
      ]
     },
     "execution_count": 5,
     "metadata": {},
     "output_type": "execute_result"
    }
   ],
   "source": [
    "b"
   ]
  },
  {
   "cell_type": "code",
   "execution_count": 6,
   "id": "a054e7a9",
   "metadata": {},
   "outputs": [
    {
     "data": {
      "text/plain": [
       "array([4., 5., 3.])"
      ]
     },
     "execution_count": 6,
     "metadata": {},
     "output_type": "execute_result"
    }
   ],
   "source": [
    "results = np.linalg.solve(A,b)\n",
    "results"
   ]
  },
  {
   "cell_type": "markdown",
   "id": "f25f3375",
   "metadata": {},
   "source": [
    "Answer: y = 4x^2 + 5x + 3"
   ]
  },
  {
   "cell_type": "code",
   "execution_count": null,
   "id": "1143305b",
   "metadata": {},
   "outputs": [],
   "source": []
  }
 ],
 "metadata": {
  "kernelspec": {
   "display_name": "Python 3 (ipykernel)",
   "language": "python",
   "name": "python3"
  },
  "language_info": {
   "codemirror_mode": {
    "name": "ipython",
    "version": 3
   },
   "file_extension": ".py",
   "mimetype": "text/x-python",
   "name": "python",
   "nbconvert_exporter": "python",
   "pygments_lexer": "ipython3",
   "version": "3.9.9"
  }
 },
 "nbformat": 4,
 "nbformat_minor": 5
}
