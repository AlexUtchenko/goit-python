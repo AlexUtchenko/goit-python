{
 "cells": [
  {
   "cell_type": "code",
   "execution_count": 2,
   "id": "444959df",
   "metadata": {},
   "outputs": [],
   "source": [
    "import numpy as np"
   ]
  },
  {
   "cell_type": "markdown",
   "id": "dda162cb",
   "metadata": {},
   "source": [
    "x + y + z = 1328\n",
    "\n",
    "x - y = - 120\n",
    "\n",
    "x - z = 100"
   ]
  },
  {
   "cell_type": "code",
   "execution_count": 3,
   "id": "07f0caf3",
   "metadata": {},
   "outputs": [],
   "source": [
    "A = np.array([[1,1,1],[1,-1,0],[1,0,-1]])"
   ]
  },
  {
   "cell_type": "code",
   "execution_count": 4,
   "id": "29bee9e5",
   "metadata": {},
   "outputs": [
    {
     "data": {
      "text/plain": [
       "array([[ 1,  1,  1],\n",
       "       [ 1, -1,  0],\n",
       "       [ 1,  0, -1]])"
      ]
     },
     "execution_count": 4,
     "metadata": {},
     "output_type": "execute_result"
    }
   ],
   "source": [
    "A"
   ]
  },
  {
   "cell_type": "code",
   "execution_count": 5,
   "id": "9dbaa34a",
   "metadata": {},
   "outputs": [],
   "source": [
    "b = np.array([1328,-120,100])"
   ]
  },
  {
   "cell_type": "code",
   "execution_count": 6,
   "id": "b20b52eb",
   "metadata": {},
   "outputs": [
    {
     "data": {
      "text/plain": [
       "array([1328, -120,  100])"
      ]
     },
     "execution_count": 6,
     "metadata": {},
     "output_type": "execute_result"
    }
   ],
   "source": [
    "b"
   ]
  },
  {
   "cell_type": "code",
   "execution_count": 8,
   "id": "0e2b0b74",
   "metadata": {},
   "outputs": [
    {
     "data": {
      "text/plain": [
       "array([436., 556., 336.])"
      ]
     },
     "execution_count": 8,
     "metadata": {},
     "output_type": "execute_result"
    }
   ],
   "source": [
    "np.linalg.solve(A,b)"
   ]
  },
  {
   "cell_type": "markdown",
   "id": "a15e7806",
   "metadata": {},
   "source": [
    "Solution: \n",
    "\n",
    "436 items of iphone 6,\n",
    "\n",
    "556 items of iphone 11,\n",
    "\n",
    "336 items of iphone 12\n"
   ]
  }
 ],
 "metadata": {
  "kernelspec": {
   "display_name": "Python 3 (ipykernel)",
   "language": "python",
   "name": "python3"
  },
  "language_info": {
   "codemirror_mode": {
    "name": "ipython",
    "version": 3
   },
   "file_extension": ".py",
   "mimetype": "text/x-python",
   "name": "python",
   "nbconvert_exporter": "python",
   "pygments_lexer": "ipython3",
   "version": "3.9.9"
  }
 },
 "nbformat": 4,
 "nbformat_minor": 5
}
