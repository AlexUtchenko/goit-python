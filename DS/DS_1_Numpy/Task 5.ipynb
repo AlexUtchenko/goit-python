{
 "cells": [
  {
   "cell_type": "code",
   "execution_count": 2,
   "id": "83b6dd9f",
   "metadata": {},
   "outputs": [],
   "source": [
    "import numpy as np"
   ]
  },
  {
   "cell_type": "code",
   "execution_count": 20,
   "id": "99b7f283",
   "metadata": {},
   "outputs": [],
   "source": [
    "def get_polynom(coords):\n",
    "    if len(coords) <= 3:\n",
    "        return \"more than 3 dots are needed\"\n",
    "    if len(coords) > 3:\n",
    "        x = []\n",
    "        y = []\n",
    "        for i in coords:\n",
    "            x.append(i[0])\n",
    "            y.append(i[1])\n",
    "        p = np.poly1d(np.polyfit(x, y, 3))\n",
    "        return p"
   ]
  },
  {
   "cell_type": "code",
   "execution_count": 24,
   "id": "06a6c4a8",
   "metadata": {},
   "outputs": [],
   "source": [
    "coords = ((1,0), (3,2), (4,3), (7,1))"
   ]
  },
  {
   "cell_type": "code",
   "execution_count": 25,
   "id": "b893c7a4",
   "metadata": {},
   "outputs": [
    {
     "name": "stdout",
     "output_type": "stream",
     "text": [
      "          3          2\n",
      "-0.06944 x + 0.5556 x - 0.3194 x - 0.1667\n"
     ]
    }
   ],
   "source": [
    "print(get_polynom(coords))"
   ]
  }
 ],
 "metadata": {
  "kernelspec": {
   "display_name": "Python 3 (ipykernel)",
   "language": "python",
   "name": "python3"
  },
  "language_info": {
   "codemirror_mode": {
    "name": "ipython",
    "version": 3
   },
   "file_extension": ".py",
   "mimetype": "text/x-python",
   "name": "python",
   "nbconvert_exporter": "python",
   "pygments_lexer": "ipython3",
   "version": "3.9.9"
  }
 },
 "nbformat": 4,
 "nbformat_minor": 5
}
