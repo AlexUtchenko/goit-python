{
 "cells": [
  {
   "cell_type": "code",
   "execution_count": 12,
   "id": "0baf280a",
   "metadata": {},
   "outputs": [],
   "source": [
    "import numpy as np"
   ]
  },
  {
   "cell_type": "markdown",
   "id": "412ac61c",
   "metadata": {},
   "source": [
    "0.05x + 0.07y + 0z = 2250\n",
    "\n",
    "0.05x + 0y + 0.06z = 1400\n",
    "\n",
    "x + y + z = 50000"
   ]
  },
  {
   "cell_type": "code",
   "execution_count": 13,
   "id": "fa2691e7",
   "metadata": {},
   "outputs": [],
   "source": [
    "A = np.array([[0.05, 0.07, 0], [0.05, 0, 0.06], [1, 1, 1]])"
   ]
  },
  {
   "cell_type": "code",
   "execution_count": 14,
   "id": "dad0ded1",
   "metadata": {},
   "outputs": [
    {
     "data": {
      "text/plain": [
       "array([[0.05, 0.07, 0.  ],\n",
       "       [0.05, 0.  , 0.06],\n",
       "       [1.  , 1.  , 1.  ]])"
      ]
     },
     "execution_count": 14,
     "metadata": {},
     "output_type": "execute_result"
    }
   ],
   "source": [
    "A"
   ]
  },
  {
   "cell_type": "code",
   "execution_count": 15,
   "id": "8c1b903f",
   "metadata": {},
   "outputs": [],
   "source": [
    "b = np.array([2250, 1400, 50000], dtype=float)"
   ]
  },
  {
   "cell_type": "code",
   "execution_count": 16,
   "id": "becbc01e",
   "metadata": {},
   "outputs": [
    {
     "data": {
      "text/plain": [
       "array([ 2250.,  1400., 50000.])"
      ]
     },
     "execution_count": 16,
     "metadata": {},
     "output_type": "execute_result"
    }
   ],
   "source": [
    "b"
   ]
  },
  {
   "cell_type": "code",
   "execution_count": 17,
   "id": "245d659c",
   "metadata": {},
   "outputs": [
    {
     "data": {
      "text/plain": [
       "array([10000., 25000., 15000.])"
      ]
     },
     "execution_count": 17,
     "metadata": {},
     "output_type": "execute_result"
    }
   ],
   "source": [
    "np.linalg.solve(A,b)"
   ]
  },
  {
   "cell_type": "code",
   "execution_count": null,
   "id": "3080f6f0",
   "metadata": {},
   "outputs": [],
   "source": []
  }
 ],
 "metadata": {
  "kernelspec": {
   "display_name": "Python 3 (ipykernel)",
   "language": "python",
   "name": "python3"
  },
  "language_info": {
   "codemirror_mode": {
    "name": "ipython",
    "version": 3
   },
   "file_extension": ".py",
   "mimetype": "text/x-python",
   "name": "python",
   "nbconvert_exporter": "python",
   "pygments_lexer": "ipython3",
   "version": "3.9.9"
  }
 },
 "nbformat": 4,
 "nbformat_minor": 5
}
