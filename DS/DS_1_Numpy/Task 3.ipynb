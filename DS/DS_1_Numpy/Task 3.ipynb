{
 "cells": [
  {
   "cell_type": "markdown",
   "id": "4381fe7f",
   "metadata": {},
   "source": [
    "Пусть x1 = 1/a^2; x2 = 1/b^2; x3 = 1/c^2; тогда составим систему линенйных уравнений, подставив значения координат точек:\n",
    "\n",
    "3*x1 + 0*x2 + 3*x3 = 1\n",
    "\n",
    "6*x1 + 0.25*x2 + 0*x3 = 1\n",
    "\n",
    "1*x1 + 0.33*x2 + 1*x3 = 1"
   ]
  },
  {
   "cell_type": "code",
   "execution_count": 1,
   "id": "59fadc9e",
   "metadata": {},
   "outputs": [],
   "source": [
    "import numpy as np"
   ]
  },
  {
   "cell_type": "code",
   "execution_count": 2,
   "id": "6928afd5",
   "metadata": {},
   "outputs": [],
   "source": [
    "A = np.array([[3,0,3],[6,0.25,0],[1,0.33,1]])"
   ]
  },
  {
   "cell_type": "code",
   "execution_count": 3,
   "id": "9624b234",
   "metadata": {},
   "outputs": [
    {
     "data": {
      "text/plain": [
       "array([[3.  , 0.  , 3.  ],\n",
       "       [6.  , 0.25, 0.  ],\n",
       "       [1.  , 0.33, 1.  ]])"
      ]
     },
     "execution_count": 3,
     "metadata": {},
     "output_type": "execute_result"
    }
   ],
   "source": [
    "A"
   ]
  },
  {
   "cell_type": "code",
   "execution_count": 4,
   "id": "892b9ce6",
   "metadata": {},
   "outputs": [],
   "source": [
    "b = np.array([1,1,1])"
   ]
  },
  {
   "cell_type": "code",
   "execution_count": 5,
   "id": "fe0942ea",
   "metadata": {},
   "outputs": [
    {
     "data": {
      "text/plain": [
       "array([1, 1, 1])"
      ]
     },
     "execution_count": 5,
     "metadata": {},
     "output_type": "execute_result"
    }
   ],
   "source": [
    "b"
   ]
  },
  {
   "cell_type": "code",
   "execution_count": 7,
   "id": "1c80fdd0",
   "metadata": {},
   "outputs": [],
   "source": [
    "soln = np.linalg.solve(A,b)"
   ]
  },
  {
   "cell_type": "code",
   "execution_count": 8,
   "id": "f5f19bec",
   "metadata": {},
   "outputs": [
    {
     "data": {
      "text/plain": [
       "array([0.08249158, 2.02020202, 0.25084175])"
      ]
     },
     "execution_count": 8,
     "metadata": {},
     "output_type": "execute_result"
    }
   ],
   "source": [
    "soln"
   ]
  },
  {
   "cell_type": "markdown",
   "id": "ad7610da",
   "metadata": {},
   "source": [
    "Найдем значения a2, b2, c2 как a = 1/x1 и т.д."
   ]
  },
  {
   "cell_type": "code",
   "execution_count": 9,
   "id": "17f04d58",
   "metadata": {},
   "outputs": [],
   "source": [
    "a2 = 1 / soln[0]\n",
    "b2 = 1 / soln[1]\n",
    "c2 = 1 / soln[2]"
   ]
  },
  {
   "cell_type": "code",
   "execution_count": 10,
   "id": "ec94c7e1",
   "metadata": {},
   "outputs": [
    {
     "data": {
      "text/plain": [
       "(12.122448979591837, 0.495, 3.9865771812080535)"
      ]
     },
     "execution_count": 10,
     "metadata": {},
     "output_type": "execute_result"
    }
   ],
   "source": [
    "a2, b2, c2"
   ]
  }
 ],
 "metadata": {
  "kernelspec": {
   "display_name": "Python 3 (ipykernel)",
   "language": "python",
   "name": "python3"
  },
  "language_info": {
   "codemirror_mode": {
    "name": "ipython",
    "version": 3
   },
   "file_extension": ".py",
   "mimetype": "text/x-python",
   "name": "python",
   "nbconvert_exporter": "python",
   "pygments_lexer": "ipython3",
   "version": "3.9.9"
  }
 },
 "nbformat": 4,
 "nbformat_minor": 5
}
