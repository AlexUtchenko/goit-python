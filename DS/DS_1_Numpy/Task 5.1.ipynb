{
 "cells": [
  {
   "cell_type": "code",
   "execution_count": 1,
   "id": "50c8c329",
   "metadata": {},
   "outputs": [],
   "source": [
    "import numpy as np"
   ]
  },
  {
   "cell_type": "markdown",
   "id": "18876397",
   "metadata": {},
   "source": [
    "a*x^3 + b*x^2 + c*x + d = y\n",
    "The system of equations consists of the inserted  x and y values of the given coordinates. The a b c d coefficients will be solved"
   ]
  },
  {
   "cell_type": "code",
   "execution_count": 3,
   "id": "875948f4",
   "metadata": {},
   "outputs": [],
   "source": [
    "def get_polynom(coords):\n",
    "    if len(coords) >=3: \n",
    "        left_list = []\n",
    "        right_list = []\n",
    "        for i in coords:\n",
    "            abcd = []\n",
    "            e = []\n",
    "            abcd.append(i[0]^3)\n",
    "            abcd.append(i[0]^2)\n",
    "            abcd.append(i[0])\n",
    "            abcd.append(1)\n",
    "            e = i[1]\n",
    "            left_list.append(abcd)\n",
    "            right_list.append(e)\n",
    "        A = np.array(left_list)\n",
    "        b = np.array(right_list)\n",
    "        return np.linalg.solve(A,b)\n",
    "    else:\n",
    "        return 'more than 2 coords are needed'"
   ]
  },
  {
   "cell_type": "code",
   "execution_count": 4,
   "id": "1f9d6ee3",
   "metadata": {},
   "outputs": [],
   "source": [
    "coords = ((1,0), (3,2), (4,3), (7,1))"
   ]
  },
  {
   "cell_type": "code",
   "execution_count": 5,
   "id": "c4233abb",
   "metadata": {},
   "outputs": [
    {
     "name": "stdout",
     "output_type": "stream",
     "text": [
      "[ 1.875 -2.5    0.375  3.375]\n"
     ]
    }
   ],
   "source": [
    "print(get_polynom(coords))"
   ]
  }
 ],
 "metadata": {
  "kernelspec": {
   "display_name": "Python 3 (ipykernel)",
   "language": "python",
   "name": "python3"
  },
  "language_info": {
   "codemirror_mode": {
    "name": "ipython",
    "version": 3
   },
   "file_extension": ".py",
   "mimetype": "text/x-python",
   "name": "python",
   "nbconvert_exporter": "python",
   "pygments_lexer": "ipython3",
   "version": "3.9.9"
  }
 },
 "nbformat": 4,
 "nbformat_minor": 5
}
