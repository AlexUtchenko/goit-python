{
 "cells": [
  {
   "cell_type": "code",
   "execution_count": 1,
   "id": "3c0ec8d8",
   "metadata": {},
   "outputs": [],
   "source": [
    "import numpy as np"
   ]
  },
  {
   "cell_type": "code",
   "execution_count": 5,
   "id": "760990cd",
   "metadata": {},
   "outputs": [],
   "source": [
    "def get_polynom(coords):\n",
    "    if len(coords) <= 2:\n",
    "        return \"more than 2 dots are needed\"\n",
    "    if len(coords) > 2:\n",
    "        x = []\n",
    "        y = []\n",
    "        for i in coords:\n",
    "            x.append(i[0])\n",
    "            y.append(i[1])\n",
    "        p = np.poly1d(np.polyfit(x, y, len(coords)-1))\n",
    "        return p"
   ]
  },
  {
   "cell_type": "code",
   "execution_count": 7,
   "id": "c49f16f8",
   "metadata": {},
   "outputs": [
    {
     "name": "stdout",
     "output_type": "stream",
     "text": [
      "         4          3         2\n",
      "0.01181 x - 0.2465 x + 1.441 x - 2.031 x + 0.825\n"
     ]
    }
   ],
   "source": [
    "coords = ((1,0), (3,2), (4,3), (7,1), (9, -3))\n",
    "print(get_polynom(coords))"
   ]
  }
 ],
 "metadata": {
  "kernelspec": {
   "display_name": "Python 3 (ipykernel)",
   "language": "python",
   "name": "python3"
  },
  "language_info": {
   "codemirror_mode": {
    "name": "ipython",
    "version": 3
   },
   "file_extension": ".py",
   "mimetype": "text/x-python",
   "name": "python",
   "nbconvert_exporter": "python",
   "pygments_lexer": "ipython3",
   "version": "3.9.9"
  }
 },
 "nbformat": 4,
 "nbformat_minor": 5
}
